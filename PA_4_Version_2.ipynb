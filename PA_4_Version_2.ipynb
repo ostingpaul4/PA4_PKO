{
 "cells": [
  {
   "cell_type": "markdown",
   "id": "5dbad171",
   "metadata": {},
   "source": [
    "Paul Osting "
   ]
  },
  {
   "cell_type": "markdown",
   "id": "8e98e743",
   "metadata": {},
   "source": [
    "Assignment 4"
   ]
  },
  {
   "cell_type": "markdown",
   "id": "1e677ee2",
   "metadata": {},
   "source": [
    "Version 2"
   ]
  },
  {
   "cell_type": "markdown",
   "id": "ff45a422",
   "metadata": {},
   "source": [
    "CS150-01"
   ]
  },
  {
   "cell_type": "markdown",
   "id": "86dcf6bd",
   "metadata": {},
   "source": [
    "# A"
   ]
  },
  {
   "cell_type": "code",
   "execution_count": 7,
   "id": "f42a5f6f",
   "metadata": {},
   "outputs": [
    {
     "name": "stdout",
     "output_type": "stream",
     "text": [
      "0\n",
      "1\n",
      "2\n",
      "3\n",
      "4\n",
      "5\n",
      "6 *\n",
      "7\n",
      "8\n",
      "9 *\n",
      "10\n",
      "11\n",
      "12 *\n",
      "13\n",
      "14\n",
      "15 *\n",
      "16\n",
      "17\n",
      "18 *\n",
      "19\n",
      "20\n",
      "21 *\n",
      "22\n",
      "23\n",
      "24 *\n",
      "25\n",
      "26\n",
      "27 *\n",
      "28\n",
      "29\n",
      "30 *\n",
      "31\n",
      "32\n",
      "33 *\n",
      "34\n",
      "35\n",
      "36 *\n",
      "37\n",
      "38\n",
      "39 *\n",
      "40\n",
      "41\n",
      "42 *\n",
      "43\n",
      "44\n",
      "45 *\n",
      "46\n",
      "47\n",
      "48 *\n",
      "49\n",
      "50\n",
      "51 *\n",
      "52\n",
      "53\n",
      "54 *\n",
      "55\n",
      "56\n",
      "57 *\n",
      "58\n",
      "59\n",
      "60 *\n",
      "61\n",
      "62\n",
      "63 *\n",
      "64\n",
      "65\n",
      "66 *\n",
      "67\n",
      "68\n",
      "69 *\n",
      "70\n",
      "71\n",
      "72 *\n",
      "73\n",
      "74\n",
      "75 *\n",
      "76\n",
      "77\n",
      "78 *\n",
      "79\n",
      "80\n",
      "81 *\n",
      "82\n",
      "83\n",
      "84 *\n",
      "85\n",
      "86\n",
      "87 *\n",
      "88\n",
      "89\n",
      "90 *\n",
      "91\n",
      "92\n",
      "93 *\n",
      "94\n",
      "95\n",
      "96 *\n",
      "97\n",
      "98\n",
      "99 *\n",
      "100\n"
     ]
    }
   ],
   "source": [
    "for i in range(0,101):\n",
    "    if i%3==0 and i>3:\n",
    "        print(i,'*')\n",
    "    else:\n",
    "        print(i)"
   ]
  },
  {
   "cell_type": "markdown",
   "id": "17593828",
   "metadata": {},
   "source": [
    "# B"
   ]
  },
  {
   "cell_type": "code",
   "execution_count": 36,
   "id": "db36cd93",
   "metadata": {},
   "outputs": [
    {
     "name": "stdout",
     "output_type": "stream",
     "text": [
      "Enter a Number that corresponds with a Month: 2\n",
      "Febuary has 31 days\n"
     ]
    }
   ],
   "source": [
    "#Not Sure Why this does not work\n",
    "months={1:'January',2:'Febuary',3:'March',4:'April',5:'May',6:'June',7:'July',8:'August',9:'September',10:'October',11:'November',12:'December'}\n",
    "month=int(input('Enter a Number that corresponds with a Month: '))\n",
    "if month==1 or 3 or 5 or 7 or 8 or 10 or 12:\n",
    "    print(months[month],'has 31 days')\n",
    "elif month==2:\n",
    "    print(months[month],'has 28 days')\n",
    "else:\n",
    "    print(months[month],'has 30 days')\n"
   ]
  },
  {
   "cell_type": "code",
   "execution_count": 35,
   "id": "fc012ce3",
   "metadata": {},
   "outputs": [
    {
     "name": "stdout",
     "output_type": "stream",
     "text": [
      "Enter a Number that corresponds with a Month: 4\n",
      "April has 30 days\n"
     ]
    }
   ],
   "source": [
    "months={1:'January',2:'Febuary',3:'March',4:'April',5:'May',6:'June',7:'July',8:'August',9:'September',10:'October',11:'November',12:'December'}\n",
    "month=int(input('Enter a Number that corresponds with a Month: '))\n",
    "if month==1:\n",
    "    print(months[month],'has 31 days')\n",
    "elif month==3:\n",
    "    print(months[month],'has 31 days')\n",
    "elif month==5:\n",
    "    print(months[month],'has 31 days')\n",
    "elif month==7:\n",
    "    print(months[month],'has 31 days')\n",
    "elif month==8:\n",
    "    print(months[month],'has 31 days')\n",
    "elif month==10:\n",
    "    print(months[month],'has 31 days')\n",
    "elif month==12:\n",
    "    print(months[month],'has 31 days')\n",
    "elif month==2:\n",
    "    print(months[month],'has 28 days')\n",
    "elif month==4:\n",
    "    print(months[month],'has 30 days')\n",
    "elif month==6:\n",
    "    print(months[month],'has 30 days')\n",
    "elif month==9:\n",
    "    print(months[month],'has 30 days')\n",
    "else:\n",
    "    print(months[month],'has 30 days')\n"
   ]
  },
  {
   "cell_type": "markdown",
   "id": "d2bd2143",
   "metadata": {},
   "source": [
    "# C"
   ]
  },
  {
   "cell_type": "code",
   "execution_count": 43,
   "id": "733700b0",
   "metadata": {},
   "outputs": [
    {
     "name": "stdout",
     "output_type": "stream",
     "text": [
      "Enter an integer: 6\n",
      "6 is not a prime number\n"
     ]
    }
   ],
   "source": [
    "num=int(input('Enter an integer: '))\n",
    "if num > 1:\n",
    "    for i in range(2, int(num/2)+1):\n",
    "        if (num % i) == 0:\n",
    "            print(num, \"is not a prime number\")\n",
    "            break\n",
    "    else:\n",
    "        print(num, \"is a prime number\")\n",
    "else:\n",
    "    print(num, \"is not a prime number\")"
   ]
  },
  {
   "cell_type": "markdown",
   "id": "438871e3",
   "metadata": {},
   "source": [
    "# D"
   ]
  },
  {
   "cell_type": "code",
   "execution_count": 72,
   "id": "be251e37",
   "metadata": {},
   "outputs": [
    {
     "name": "stdout",
     "output_type": "stream",
     "text": [
      "Side 1: 1\n",
      "Side 2: 2\n",
      "Side 3: 3\n",
      "Scalene Triangle\n"
     ]
    }
   ],
   "source": [
    "side1=float(input('Side 1: '))\n",
    "side2=float(input('Side 2: '))\n",
    "side3=float(input('Side 3: '))\n",
    "if side1==side2==side3:\n",
    "    print('Equalateral Triangle')\n",
    "elif (side1==side2 and side2!=side3) or (side1!=side2 and side2==side3) or (side1==side3 and side2!=side3):\n",
    "    print('Isosceles Triangle')\n",
    "else:\n",
    "    print('Scalene Triangle')"
   ]
  },
  {
   "cell_type": "markdown",
   "id": "6edb17f2",
   "metadata": {},
   "source": [
    "# E"
   ]
  },
  {
   "cell_type": "code",
   "execution_count": 46,
   "id": "e91e95b3",
   "metadata": {},
   "outputs": [
    {
     "name": "stdout",
     "output_type": "stream",
     "text": [
      "65 Elder\n",
      "78 Elder\n",
      "34 Adult\n",
      "56 Adult\n",
      "12 Minor\n",
      "9 Minor\n",
      "43 Adult\n",
      "67 Elder\n"
     ]
    }
   ],
   "source": [
    "ages=[65,78,34,56,12,9,43,67]\n",
    "for age in ages:\n",
    "    if (age<18):\n",
    "        print(age,\"Minor\")\n",
    "    elif (age>=18 and age<65):\n",
    "        print(age,\"Adult\")\n",
    "    else:\n",
    "        print(age,\"Elder\")\n",
    "\n"
   ]
  },
  {
   "cell_type": "markdown",
   "id": "a77d1534",
   "metadata": {},
   "source": [
    "# Midterm Practice"
   ]
  },
  {
   "cell_type": "code",
   "execution_count": 47,
   "id": "f04ad3a1",
   "metadata": {},
   "outputs": [
    {
     "name": "stdout",
     "output_type": "stream",
     "text": [
      "The number is not\n",
      "The number is not\n",
      "The number is not\n",
      "The number is not\n",
      "The number is not\n",
      "The number is not\n",
      "The number is not\n",
      "The number is not\n",
      "The number is a multiple of 5 or divisible by 5\n",
      "The number is not\n"
     ]
    }
   ],
   "source": [
    "num=[2,7,12,22,68,54,456543,2431,5665,22134]\n",
    "for i in num:\n",
    "    if i%5==0:\n",
    "        print('The number is a multiple of 5 or divisible by 5')\n",
    "    else: \n",
    "        print('The number is not')"
   ]
  },
  {
   "cell_type": "code",
   "execution_count": 66,
   "id": "43d63994",
   "metadata": {},
   "outputs": [
    {
     "name": "stdout",
     "output_type": "stream",
     "text": [
      "January\n",
      "dict_keys([1, 2, 3, 4, 5, 6, 7, 8, 9, 10, 11])\n",
      "dict_values(['January', 'Feb', 'Mar', 'Apr', 'May', 'Jun', 'Jul', 'Aug', 'Sept', 'Oct', 'Nov'])\n",
      "dict_items([(1, 'January'), (2, 'Feb'), (3, 'Mar'), (4, 'Apr'), (5, 'May'), (6, 'Jun'), (7, 'Jul'), (8, 'Aug'), (9, 'Sept'), (10, 'Oct'), (11, 'Nov')])\n"
     ]
    },
    {
     "ename": "ValueError",
     "evalue": "not enough values to unpack (expected 2, got 1)",
     "output_type": "error",
     "traceback": [
      "\u001b[1;31m---------------------------------------------------------------------------\u001b[0m",
      "\u001b[1;31mValueError\u001b[0m                                Traceback (most recent call last)",
      "\u001b[1;32m~\\AppData\\Local\\Temp\\ipykernel_21800\\3895274174.py\u001b[0m in \u001b[0;36m<module>\u001b[1;34m\u001b[0m\n\u001b[0;32m      7\u001b[0m \u001b[0mprint\u001b[0m\u001b[1;33m(\u001b[0m\u001b[0myear\u001b[0m\u001b[1;33m.\u001b[0m\u001b[0mitems\u001b[0m\u001b[1;33m(\u001b[0m\u001b[1;33m)\u001b[0m\u001b[1;33m)\u001b[0m\u001b[1;33m\u001b[0m\u001b[1;33m\u001b[0m\u001b[0m\n\u001b[0;32m      8\u001b[0m \u001b[1;32mfor\u001b[0m \u001b[0mi\u001b[0m \u001b[1;32min\u001b[0m \u001b[0myear\u001b[0m\u001b[1;33m.\u001b[0m\u001b[0mitems\u001b[0m\u001b[1;33m(\u001b[0m\u001b[1;33m)\u001b[0m\u001b[1;33m:\u001b[0m\u001b[1;33m\u001b[0m\u001b[1;33m\u001b[0m\u001b[0m\n\u001b[1;32m----> 9\u001b[1;33m     \u001b[1;32mfor\u001b[0m \u001b[0mx\u001b[0m\u001b[1;33m,\u001b[0m\u001b[0my\u001b[0m \u001b[1;32min\u001b[0m \u001b[0mstr\u001b[0m\u001b[1;33m(\u001b[0m\u001b[0mi\u001b[0m\u001b[1;33m)\u001b[0m\u001b[1;33m:\u001b[0m\u001b[1;33m\u001b[0m\u001b[1;33m\u001b[0m\u001b[0m\n\u001b[0m\u001b[0;32m     10\u001b[0m         \u001b[0mprint\u001b[0m\u001b[1;33m(\u001b[0m\u001b[0mi\u001b[0m\u001b[1;33m)\u001b[0m\u001b[1;33m\u001b[0m\u001b[1;33m\u001b[0m\u001b[0m\n",
      "\u001b[1;31mValueError\u001b[0m: not enough values to unpack (expected 2, got 1)"
     ]
    }
   ],
   "source": [
    "year={1:'Jan',2:'Feb',3:'Mar',4:'Apr',5:'May',6:'Jun',7:'Jul',8:'Aug',9:'Sept',10:'Oct',11:'Nov',12:'Dec'}\n",
    "year[1]='January'\n",
    "print(year[1])\n",
    "del(year[12])\n",
    "print(year.keys())\n",
    "print(year.values())\n",
    "print(year.items())\n",
    "for i in year.items():\n",
    "    for x,y in str(i):\n",
    "        print(i)"
   ]
  },
  {
   "cell_type": "code",
   "execution_count": null,
   "id": "468516c7",
   "metadata": {},
   "outputs": [],
   "source": []
  }
 ],
 "metadata": {
  "kernelspec": {
   "display_name": "Python 3 (ipykernel)",
   "language": "python",
   "name": "python3"
  },
  "language_info": {
   "codemirror_mode": {
    "name": "ipython",
    "version": 3
   },
   "file_extension": ".py",
   "mimetype": "text/x-python",
   "name": "python",
   "nbconvert_exporter": "python",
   "pygments_lexer": "ipython3",
   "version": "3.9.13"
  }
 },
 "nbformat": 4,
 "nbformat_minor": 5
}
